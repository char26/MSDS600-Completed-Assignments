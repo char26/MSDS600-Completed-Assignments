{
 "cells": [
  {
   "cell_type": "markdown",
   "id": "da97052f",
   "metadata": {},
   "source": [
    "# Week 8 assignment: NLP on social media data\n",
    "\n",
    "Take our social media we collected last week and:\n",
    "\n",
    "- extract the sentiment scores of the titles of the posts\n",
    "    - you can use the keyword method, Python packages, or other methods to extract the sentiment scores\n",
    "- plot a histogram of the sentiment scores\n",
    "- look at descriptive statistics (mean, median, standard deviation) of the sentiment scores\n",
    "- examine the text for some of the highest and lowest sentiment scores\n",
    "- write a short analysis of the results and our process, as well as propose one idea for something we could use this data for\n",
    "\n",
    "Optional advanced challenges:\n",
    "- Compare different sentiment analysis methods (e.g. textblob and VADER). Does one seem to work better than another?\n",
    "- Get the sentiments of the comments for each post. We can do a lot with this, such as:\n",
    "    - look at the average sentiment for each post and compare it with the sentiment of the title and/or text\n",
    "    - look at the distribution of sentiments for each post and find the posts with the widest range of sentiments (controversial posts)\n",
    "- Examine the subjectivity of our data (e.g. using textblob)\n",
    "- Use topic modeling on the posts\n",
    "    - you can also add in the comments to the topic model\n",
    "- Look at the most frequent words for positive and negative sentiment posts\n",
    "\n",
    "Note: There is no assignment solution file for this week."
   ]
  },
  {
   "attachments": {},
   "cell_type": "markdown",
   "id": "e5e84e50",
   "metadata": {},
   "source": [
    "<hr>\n",
    "\n",
    "# Assignment 8 - Charles Alders"
   ]
  },
  {
   "attachments": {},
   "cell_type": "markdown",
   "id": "8ef06c2c",
   "metadata": {},
   "source": [
    "Reading data from the r/datascience subreddit, stored in a sqlite database file."
   ]
  },
  {
   "cell_type": "code",
   "execution_count": 2,
   "id": "1ded895b",
   "metadata": {},
   "outputs": [
    {
     "data": {
      "text/html": [
       "<div>\n",
       "<style scoped>\n",
       "    .dataframe tbody tr th:only-of-type {\n",
       "        vertical-align: middle;\n",
       "    }\n",
       "\n",
       "    .dataframe tbody tr th {\n",
       "        vertical-align: top;\n",
       "    }\n",
       "\n",
       "    .dataframe thead th {\n",
       "        text-align: right;\n",
       "    }\n",
       "</style>\n",
       "<table border=\"1\" class=\"dataframe\">\n",
       "  <thead>\n",
       "    <tr style=\"text-align: right;\">\n",
       "      <th></th>\n",
       "      <th>title</th>\n",
       "      <th>author</th>\n",
       "      <th>n_comments</th>\n",
       "      <th>score</th>\n",
       "      <th>text</th>\n",
       "      <th>link</th>\n",
       "    </tr>\n",
       "  </thead>\n",
       "  <tbody>\n",
       "    <tr>\n",
       "      <th>0</th>\n",
       "      <td>Weekly Entering &amp; Transitioning - Thread 27 Fe...</td>\n",
       "      <td>AutoModerator</td>\n",
       "      <td>46</td>\n",
       "      <td>6</td>\n",
       "      <td>\\n\\nWelcome to this week's entering &amp; transit...</td>\n",
       "      <td>/r/datascience/comments/11d3a37/weekly_enterin...</td>\n",
       "    </tr>\n",
       "    <tr>\n",
       "      <th>1</th>\n",
       "      <td>How Unprofessional to leave after a year?</td>\n",
       "      <td>Subject-Resort5893</td>\n",
       "      <td>103</td>\n",
       "      <td>136</td>\n",
       "      <td>I’ve been offered a 50 percent pay bump to be ...</td>\n",
       "      <td>/r/datascience/comments/11gh1yv/how_unprofessi...</td>\n",
       "    </tr>\n",
       "    <tr>\n",
       "      <th>2</th>\n",
       "      <td>A more accessible python library for interacti...</td>\n",
       "      <td>Jota_Blanco</td>\n",
       "      <td>3</td>\n",
       "      <td>56</td>\n",
       "      <td>Hi all. My team has just open sourced a Python...</td>\n",
       "      <td>/r/datascience/comments/11g68dw/a_more_accessi...</td>\n",
       "    </tr>\n",
       "    <tr>\n",
       "      <th>3</th>\n",
       "      <td>Web Dashboard Solution, leaning Dash</td>\n",
       "      <td>GeneCreemers69</td>\n",
       "      <td>19</td>\n",
       "      <td>12</td>\n",
       "      <td>Hi all,\\n\\nI recently started as the first dat...</td>\n",
       "      <td>/r/datascience/comments/11ggw1n/web_dashboard_...</td>\n",
       "    </tr>\n",
       "    <tr>\n",
       "      <th>4</th>\n",
       "      <td>Job search is making me lose my mind</td>\n",
       "      <td>ryanhiga2019</td>\n",
       "      <td>32</td>\n",
       "      <td>7</td>\n",
       "      <td>I have a master’s degree in computer science f...</td>\n",
       "      <td>/r/datascience/comments/11gi0vc/job_search_is_...</td>\n",
       "    </tr>\n",
       "  </tbody>\n",
       "</table>\n",
       "</div>"
      ],
      "text/plain": [
       "                                               title              author  \\\n",
       "0  Weekly Entering & Transitioning - Thread 27 Fe...       AutoModerator   \n",
       "1          How Unprofessional to leave after a year?  Subject-Resort5893   \n",
       "2  A more accessible python library for interacti...         Jota_Blanco   \n",
       "3               Web Dashboard Solution, leaning Dash      GeneCreemers69   \n",
       "4               Job search is making me lose my mind        ryanhiga2019   \n",
       "\n",
       "   n_comments  score                                               text  \\\n",
       "0          46      6   \\n\\nWelcome to this week's entering & transit...   \n",
       "1         103    136  I’ve been offered a 50 percent pay bump to be ...   \n",
       "2           3     56  Hi all. My team has just open sourced a Python...   \n",
       "3          19     12  Hi all,\\n\\nI recently started as the first dat...   \n",
       "4          32      7  I have a master’s degree in computer science f...   \n",
       "\n",
       "                                                link  \n",
       "0  /r/datascience/comments/11d3a37/weekly_enterin...  \n",
       "1  /r/datascience/comments/11gh1yv/how_unprofessi...  \n",
       "2  /r/datascience/comments/11g68dw/a_more_accessi...  \n",
       "3  /r/datascience/comments/11ggw1n/web_dashboard_...  \n",
       "4  /r/datascience/comments/11gi0vc/job_search_is_...  "
      ]
     },
     "execution_count": 2,
     "metadata": {},
     "output_type": "execute_result"
    }
   ],
   "source": [
    "import pandas as pd\n",
    "import sqlite3\n",
    "\n",
    "con = sqlite3.connect('ds_reddit.sqlite')\n",
    "df = pd.read_sql_query('SELECT * FROM posts;', con)\n",
    "con.close()\n",
    "df.head()"
   ]
  },
  {
   "attachments": {},
   "cell_type": "markdown",
   "id": "b61cab87",
   "metadata": {},
   "source": [
    "Creating a new column that combines the post's title and body for analysis."
   ]
  },
  {
   "cell_type": "code",
   "execution_count": 3,
   "id": "70b7e7e3",
   "metadata": {},
   "outputs": [],
   "source": [
    "df[\"title_and_text\"] = df[\"title\"] + \" \" + df[\"text\"]"
   ]
  },
  {
   "attachments": {},
   "cell_type": "markdown",
   "id": "81186211",
   "metadata": {},
   "source": [
    "## Extracting Sentiment Scores"
   ]
  },
  {
   "attachments": {},
   "cell_type": "markdown",
   "id": "0439c2cc",
   "metadata": {},
   "source": [
    "Reading the AFINN sentiment scores to apply the the Reddit dataframe."
   ]
  },
  {
   "cell_type": "code",
   "execution_count": 4,
   "id": "81b7b298",
   "metadata": {},
   "outputs": [],
   "source": [
    "sentiment_df = pd.read_csv('AFINN-en-165.txt', sep='\\t', names=['word', 'score'], index_col='word')"
   ]
  },
  {
   "cell_type": "code",
   "execution_count": 5,
   "id": "d70ce831",
   "metadata": {},
   "outputs": [],
   "source": [
    "sentiment_dict = sentiment_df.to_dict()['score']"
   ]
  },
  {
   "cell_type": "code",
   "execution_count": 6,
   "id": "14d3c01e",
   "metadata": {},
   "outputs": [],
   "source": [
    "import numpy as np\n",
    "\n",
    "text_sentiments = []\n",
    "for text in df[\"title_and_text\"]:\n",
    "    words = text.lower().split()\n",
    "    this_text_sentiments = []\n",
    "    for w in words:\n",
    "        if w in sentiment_dict.keys():\n",
    "            this_text_sentiments.append(sentiment_dict[w])\n",
    "        else:\n",
    "            this_text_sentiments.append(0)\n",
    "\n",
    "    text_sentiments.append(np.mean(this_text_sentiments))"
   ]
  },
  {
   "cell_type": "code",
   "execution_count": 7,
   "id": "512136b8",
   "metadata": {},
   "outputs": [],
   "source": [
    "df[\"keyword_sentiment\"] = text_sentiments"
   ]
  },
  {
   "attachments": {},
   "cell_type": "markdown",
   "id": "3483d176",
   "metadata": {},
   "source": [
    "## Histogram"
   ]
  },
  {
   "cell_type": "code",
   "execution_count": 8,
   "id": "ffafc38d",
   "metadata": {},
   "outputs": [
    {
     "data": {
      "text/plain": [
       "<AxesSubplot:ylabel='Frequency'>"
      ]
     },
     "execution_count": 8,
     "metadata": {},
     "output_type": "execute_result"
    },
    {
     "data": {
      "image/png": "[encoded data removed]",
      "text/plain": [
       "<Figure size 640x480 with 1 Axes>"
      ]
     },
     "metadata": {},
     "output_type": "display_data"
    }
   ],
   "source": [
    "df[\"keyword_sentiment\"].plot.hist(bins=30)"
   ]
  },
  {
   "attachments": {},
   "cell_type": "markdown",
   "id": "a6d20651",
   "metadata": {},
   "source": [
    "Looks like the sentiments trend toward the positive side, even after the 0 values."
   ]
  },
  {
   "attachments": {},
   "cell_type": "markdown",
   "id": "39a850fb",
   "metadata": {},
   "source": [
    "## Descriptive Statistics"
   ]
  },
  {
   "cell_type": "code",
   "execution_count": 9,
   "id": "f392ec28",
   "metadata": {},
   "outputs": [
    {
     "data": {
      "text/plain": [
       "count    933.000000\n",
       "mean       0.042923\n",
       "std        0.081186\n",
       "min       -1.000000\n",
       "25%        0.000000\n",
       "50%        0.034483\n",
       "75%        0.073684\n",
       "max        0.555556\n",
       "Name: keyword_sentiment, dtype: float64"
      ]
     },
     "execution_count": 9,
     "metadata": {},
     "output_type": "execute_result"
    }
   ],
   "source": [
    "df[\"keyword_sentiment\"].describe()"
   ]
  },
  {
   "attachments": {},
   "cell_type": "markdown",
   "id": "8276fb88",
   "metadata": {},
   "source": [
    "The mean of 0.043 confirms this - the sentiments are trending positively."
   ]
  },
  {
   "attachments": {},
   "cell_type": "markdown",
   "id": "8a255a1c",
   "metadata": {},
   "source": [
    "## Examining Text"
   ]
  },
  {
   "cell_type": "code",
   "execution_count": 10,
   "id": "e7b29d5b",
   "metadata": {},
   "outputs": [
    {
     "name": "stdout",
     "output_type": "stream",
     "text": [
      "['5 Best Ways to Optimize Database for Performance Improvement ', 'Ian Boggs as an Marvel Whatif Character ', 'Happiness and Meaning in What We Do ', 'Amazing data science work. way to reduce dimensionality for superior real time performance tracking. ', 'How important is AI audit? ', 'Pre screening tests be like ', 'Top 5 Data Science Certifications In-demand By Fortune 500 Firms in 2023 ', 'Best Courses/ Resources To Learn NLP From Basics ? ', \"Anyone have valentine meme/puns related to data or tech? I'm looking for a funny or creative one!! &#x200B;\\n\\nhttps://preview.redd.it/w3txiyn398ha1.png?width=354&format=png&auto=webp&v=enabled&s=56540245a1226c843fb84ffbba89443d512d87ee\", 'Audio book recommendations? You all got some good data science audio book recommendations? Thanks in advance']\n"
     ]
    }
   ],
   "source": [
    "top_scores = df.sort_values('keyword_sentiment', ascending=False)['title_and_text'].to_list()[:10]\n",
    "print(top_scores)"
   ]
  },
  {
   "attachments": {},
   "cell_type": "markdown",
   "id": "bc4c5057",
   "metadata": {},
   "source": [
    "From the highest sentiment scores, I can see words such as \"best\", \"improvement\", \"happiness\", \"amazing\", and many more positive words. These scores make sense to me!"
   ]
  },
  {
   "cell_type": "code",
   "execution_count": 11,
   "id": "e9a0e757",
   "metadata": {},
   "outputs": [
    {
     "name": "stdout",
     "output_type": "stream",
     "text": [
      "['Model Madness Bracket Challenge ', 'Health Data Shocks with Strange Clots ', 'Find Kth Smallest Element, FAANG Interview Problem ', 'Preventing failures in modeling projects with the Model Impact Thesis framework ', 'The job description of this unpaid internship is insane ', 'How much of a threat to data science/scientists is AI ', 'Brain Tumor Detection Web Application using Transfer Learning: An End-To-End Project ', \"When do you think this tech recession will be over? posted by your anxious undergrad senior who can't even get an internship\", 'DSA Climbing Stairs Leetcode Problem Solved ', 'Using Computer Vision To Destroy a Childhood High Score in a DS Game ']\n"
     ]
    }
   ],
   "source": [
    "bottom_scores = df.sort_values('keyword_sentiment', ascending=True)['title_and_text'].to_list()[:10]\n",
    "print(bottom_scores)"
   ]
  },
  {
   "attachments": {},
   "cell_type": "markdown",
   "id": "71af1981",
   "metadata": {},
   "source": [
    "The words that stand out from the lowest scores are \"madness\", \"shocks\", \"strange\", \"problem\", and \"failures\". There are some issues that I can see with a couple of these items. For example, \"Preventing failures in modeling projects with the Model impact Thesis framework\" was classified as the 5th lowest sentiment score, but this topic is talking about learning and improving skills, and I would not consider it negative."
   ]
  },
  {
   "attachments": {},
   "cell_type": "markdown",
   "id": "e96c0f4a",
   "metadata": {},
   "source": [
    "## Sentiment Scores in TextBlob"
   ]
  },
  {
   "cell_type": "code",
   "execution_count": 12,
   "id": "495fd7c4",
   "metadata": {},
   "outputs": [],
   "source": [
    "from textblob import TextBlob\n",
    "\n",
    "def get_tb_sentiment(text):\n",
    "    tb = TextBlob(text)\n",
    "    return tb.sentiment[0]\n",
    "\n",
    "df['tb_sentiment'] = df['title_and_text'].apply(get_tb_sentiment)"
   ]
  },
  {
   "cell_type": "code",
   "execution_count": 14,
   "id": "29be5969",
   "metadata": {},
   "outputs": [
    {
     "data": {
      "text/plain": [
       "<AxesSubplot:ylabel='Frequency'>"
      ]
     },
     "execution_count": 14,
     "metadata": {},
     "output_type": "execute_result"
    },
    {
     "data": {
      "image/png": "[encoded data removed]",
      "text/plain": [
       "<Figure size 640x480 with 1 Axes>"
      ]
     },
     "metadata": {},
     "output_type": "display_data"
    }
   ],
   "source": [
    "df['tb_sentiment'].plot.hist(bins=30)"
   ]
  },
  {
   "cell_type": "code",
   "execution_count": 16,
   "id": "21e80dcc",
   "metadata": {},
   "outputs": [
    {
     "data": {
      "text/plain": [
       "count    933.000000\n",
       "mean       0.131423\n",
       "std        0.186618\n",
       "min       -0.800000\n",
       "25%        0.000000\n",
       "50%        0.123077\n",
       "75%        0.215000\n",
       "max        1.000000\n",
       "Name: tb_sentiment, dtype: float64"
      ]
     },
     "execution_count": 16,
     "metadata": {},
     "output_type": "execute_result"
    }
   ],
   "source": [
    "df['tb_sentiment'].describe()"
   ]
  },
  {
   "attachments": {},
   "cell_type": "markdown",
   "id": "11051380",
   "metadata": {},
   "source": [
    "TextBlob has a WAY higher mean sentiment score than the AFINN method."
   ]
  },
  {
   "cell_type": "code",
   "execution_count": 21,
   "id": "d5579861",
   "metadata": {},
   "outputs": [
    {
     "data": {
      "text/plain": [
       "899    Data Science Project Good morning everyone.  I...\n",
       "11     DevOps or SWE Courses for ML? Hey All--\\n\\nHas...\n",
       "437    8 Best Microsoft Azure Consulting Companies in...\n",
       "488    Best Courses/ Resources To Learn NLP From Basi...\n",
       "907    5 Best Ways to Optimize Database for Performan...\n",
       "323    Reference for guiding model selection I'm look...\n",
       "494    What was your best interview experience? Inter...\n",
       "918    Y’all, using no precautions whatsoever, I trip...\n",
       "134    Best way to store text data Let’s say I have a...\n",
       "767    Are ML masters cash grabs by the uni? How do I...\n",
       "Name: title_and_text, dtype: object"
      ]
     },
     "execution_count": 21,
     "metadata": {},
     "output_type": "execute_result"
    }
   ],
   "source": [
    "top_scores = df.sort_values('tb_sentiment', ascending=False)['title_and_text'].head(10)\n",
    "top_scores"
   ]
  },
  {
   "attachments": {},
   "cell_type": "markdown",
   "id": "2a6c75e3",
   "metadata": {},
   "source": [
    "Some similar posts to AFINN - many still have keywords like \"best\"."
   ]
  },
  {
   "attachments": {},
   "cell_type": "markdown",
   "id": "2bc8ebd2",
   "metadata": {},
   "source": [
    "## Most Common Negative Words"
   ]
  },
  {
   "cell_type": "code",
   "execution_count": 41,
   "id": "46dbad12",
   "metadata": {},
   "outputs": [],
   "source": [
    "import nltk\n",
    "\n",
    "from nltk.corpus import stopwords\n",
    "stops = stopwords.words('english')\n",
    "\n",
    "stops = stops + [\"data\", \"science\", \"-\", \"i'm\", \"ds\", \"+\", \",\", \"...\", '\"o\",']"
   ]
  },
  {
   "cell_type": "code",
   "execution_count": 42,
   "id": "9632a8e1",
   "metadata": {},
   "outputs": [],
   "source": [
    "words = ' '.join(df.sort_values(\"tb_sentiment\", ascending=True)[\"title_and_text\"][:10]).lower().split()\n",
    "cleaned_words = [w for w in words if w not in set(stops)]"
   ]
  },
  {
   "cell_type": "code",
   "execution_count": 43,
   "id": "7866db00",
   "metadata": {},
   "outputs": [
    {
     "data": {
      "text/plain": [
       "[('like', 5),\n",
       " ('text', 4),\n",
       " ('start', 3),\n",
       " ('salary', 3),\n",
       " ('python', 3),\n",
       " ('career', 2),\n",
       " ('even', 2),\n",
       " ('data-centric', 2),\n",
       " ('model-centric', 2),\n",
       " ('tell', 2),\n",
       " ('companies', 2),\n",
       " ('year', 2),\n",
       " ('looking', 2),\n",
       " ('keep', 2),\n",
       " ('getting', 2),\n",
       " ('insulting', 2),\n",
       " ('job', 2),\n",
       " ('role', 2),\n",
       " ('wasting', 2),\n",
       " ('told', 2)]"
      ]
     },
     "execution_count": 43,
     "metadata": {},
     "output_type": "execute_result"
    }
   ],
   "source": [
    "fd = nltk.FreqDist(cleaned_words)\n",
    "fd.most_common(20)"
   ]
  },
  {
   "attachments": {},
   "cell_type": "markdown",
   "id": "5b63fbcd",
   "metadata": {},
   "source": [
    "Looks like there are some (assumingly) negative posts about salary, python, and careers. Also, I notice words like \"insulting\", and \"wasting\"."
   ]
  },
  {
   "cell_type": "markdown",
   "id": "236f9eda",
   "metadata": {},
   "source": [
    "# Summary"
   ]
  },
  {
   "attachments": {},
   "cell_type": "markdown",
   "id": "c7d6282c",
   "metadata": {},
   "source": [
    "In this assignment I used both AFINN and TextBlob to extract sentiment scores from the title and body text of Reddit posts in the r/datascience subreddit. AFINN returned a mean sentiment score of 0.043, while TextBlob had a far greater mean of 0.13, most likely due to the extra words it has classified. Both histograms do show a trend in the positive direction for the sentiment scores. In examining the text for the top and bottom scores, I found that a few of the entries appeared as positive or negative, but a human reading them may actually classify them as the opposite. One example is \"Preventing failures in modeling projects with the Model impact Thesis framework\" receiving a negative sentiment score, but I would argue that the actual meaning leans to the positive side. This data, specifically, could be used for subreddit moderation. An AutoModerator could use an advanced sentiment model to help decide if a post has broken the rules or not, and remove the post accordingly. In general, sentiment analysis has a wide range of uses, but I can see companies using these techniques to get a better understanding of their consumers' thoughts on a product."
   ]
  }
 ],
 "metadata": {
  "kernelspec": {
   "display_name": "base",
   "language": "python",
   "name": "python3"
  },
  "language_info": {
   "codemirror_mode": {
    "name": "ipython",
    "version": 3
   },
   "file_extension": ".py",
   "mimetype": "text/x-python",
   "name": "python",
   "nbconvert_exporter": "python",
   "pygments_lexer": "ipython3",
   "version": "3.9.13"
  },
  "vscode": {
   "interpreter": {
    "hash": "7a64d6c5339b9b168423010f04dcc9e2c76474421cab9b5d354e7386d4b1bf8a"
   }
  }
 },
 "nbformat": 4,
 "nbformat_minor": 5
}
