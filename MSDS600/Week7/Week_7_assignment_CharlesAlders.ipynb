{
 "cells": [
  {
   "cell_type": "markdown",
   "id": "73fa2b84",
   "metadata": {},
   "source": [
    "# Week 7 Assignment"
   ]
  },
  {
   "cell_type": "markdown",
   "id": "f48ee1c5",
   "metadata": {},
   "source": [
    "This week we are collecting some data from Reddit and doing some basic EDA on it. You should:\n",
    "\n",
    "- create your Reddit account and API keys\n",
    "- collect data from a subreddit of your choice\n",
    "    - at a minimum, collect the posts from the subreddit; optionally collect comments on the posts\n",
    "- save the data to a SQLite3 database\n",
    "- perform some basic EDA on the data\n",
    "    - create at least 2 plots\n",
    "- write a short analysis at the end describing the process and results\n",
    "- turn in the Jupyter Notebook and PDF printout or export to the week 7 dropbox\n",
    "\n",
    "***Optional* advanced section**\n",
    "- Practice SQL queries and select a subsection of the posts you collected\n",
    "- Modify your code to collect data beyond the 1000 item limit\n",
    "- Collect comments from the posts for analysis next week and do some EDA on the comments (e.g. who is the top commenter, which commenters have the most up and down votes or most controversial posts, etc)\n",
    "- examine n-grams ([bigrams](https://stackoverflow.com/a/37651184/4549682), trigrams) or [collocations](https://www.geeksforgeeks.org/nlp-word-collocations/)\n",
    "\n",
    "Note: There is no solution file for this week."
   ]
  },
  {
   "attachments": {},
   "cell_type": "markdown",
   "id": "a05fa8bc",
   "metadata": {},
   "source": [
    "<hr>\n",
    "\n",
    "# Week 7 Assignment - Charles Alders"
   ]
  },
  {
   "attachments": {},
   "cell_type": "markdown",
   "id": "0e4bfeba",
   "metadata": {},
   "source": [
    "## Reddit API to DataFrame"
   ]
  },
  {
   "cell_type": "code",
   "execution_count": 15,
   "id": "7c87d583",
   "metadata": {},
   "outputs": [],
   "source": [
    "import pandas as pd\n",
    "import praw\n",
    "\n",
    "import credentials"
   ]
  },
  {
   "cell_type": "code",
   "execution_count": 16,
   "id": "75a7334c",
   "metadata": {},
   "outputs": [],
   "source": [
    "reddit = praw.Reddit(client_id=credentials.client_id,\n",
    "                    client_secret=credentials.client_secret,\n",
    "                    user_agent=credentials.user_agent)"
   ]
  },
  {
   "cell_type": "code",
   "execution_count": 17,
   "id": "af6ffea2",
   "metadata": {},
   "outputs": [],
   "source": [
    "ds_subreddit = reddit.subreddit('datascience').hot(limit=None)"
   ]
  },
  {
   "cell_type": "code",
   "execution_count": 18,
   "id": "6b82847f",
   "metadata": {},
   "outputs": [],
   "source": [
    "reddit_data = {\n",
    "    \"title\": [],\n",
    "    \"author\": [],\n",
    "    \"n_comments\": [],\n",
    "    \"score\": [],\n",
    "    \"text\": [],\n",
    "    \"link\": []\n",
    "}\n",
    "\n",
    "for post in list(ds_subreddit):\n",
    "    reddit_data[\"title\"].append(post.title)\n",
    "    if post.author is None:\n",
    "        reddit_data[\"author\"].append('')\n",
    "    else:\n",
    "        reddit_data[\"author\"].append(post.author.name)\n",
    "\n",
    "    reddit_data[\"n_comments\"].append(post.num_comments)\n",
    "    reddit_data[\"score\"].append(post.score)\n",
    "    reddit_data[\"text\"].append(post.selftext)\n",
    "    reddit_data[\"link\"].append(post.permalink)"
   ]
  },
  {
   "cell_type": "code",
   "execution_count": 19,
   "id": "a4be2eb4",
   "metadata": {},
   "outputs": [],
   "source": [
    "ds_df = pd.DataFrame(reddit_data)"
   ]
  },
  {
   "cell_type": "code",
   "execution_count": 20,
   "id": "0f5502af",
   "metadata": {},
   "outputs": [
    {
     "data": {
      "text/html": [
       "<div>\n",
       "<style scoped>\n",
       "    .dataframe tbody tr th:only-of-type {\n",
       "        vertical-align: middle;\n",
       "    }\n",
       "\n",
       "    .dataframe tbody tr th {\n",
       "        vertical-align: top;\n",
       "    }\n",
       "\n",
       "    .dataframe thead th {\n",
       "        text-align: right;\n",
       "    }\n",
       "</style>\n",
       "<table border=\"1\" class=\"dataframe\">\n",
       "  <thead>\n",
       "    <tr style=\"text-align: right;\">\n",
       "      <th></th>\n",
       "      <th>title</th>\n",
       "      <th>author</th>\n",
       "      <th>n_comments</th>\n",
       "      <th>score</th>\n",
       "      <th>text</th>\n",
       "      <th>link</th>\n",
       "    </tr>\n",
       "  </thead>\n",
       "  <tbody>\n",
       "    <tr>\n",
       "      <th>0</th>\n",
       "      <td>Weekly Entering &amp; Transitioning - Thread 20 Fe...</td>\n",
       "      <td>AutoModerator</td>\n",
       "      <td>75</td>\n",
       "      <td>7</td>\n",
       "      <td>\\n\\nWelcome to this week's entering &amp; transit...</td>\n",
       "      <td>/r/datascience/comments/116y7t5/weekly_enterin...</td>\n",
       "    </tr>\n",
       "    <tr>\n",
       "      <th>1</th>\n",
       "      <td>Why is the field called Data Science and not C...</td>\n",
       "      <td>Spontanous_cat</td>\n",
       "      <td>147</td>\n",
       "      <td>217</td>\n",
       "      <td>I feel like we would have less confusion had p...</td>\n",
       "      <td>/r/datascience/comments/11949lo/why_is_the_fie...</td>\n",
       "    </tr>\n",
       "    <tr>\n",
       "      <th>2</th>\n",
       "      <td>I feel so stressed to keep up withthis fast-pa...</td>\n",
       "      <td>Delay_no_more_1999</td>\n",
       "      <td>42</td>\n",
       "      <td>48</td>\n",
       "      <td>I feel like i can never keep up this rapid dev...</td>\n",
       "      <td>/r/datascience/comments/118vpor/i_feel_so_stre...</td>\n",
       "    </tr>\n",
       "    <tr>\n",
       "      <th>3</th>\n",
       "      <td>I had a conversation with a data science hirin...</td>\n",
       "      <td>WhoIsTheUnPerson</td>\n",
       "      <td>29</td>\n",
       "      <td>32</td>\n",
       "      <td>A friend of a friend of mine was at a dinner p...</td>\n",
       "      <td>/r/datascience/comments/118vld0/i_had_a_conver...</td>\n",
       "    </tr>\n",
       "    <tr>\n",
       "      <th>4</th>\n",
       "      <td>Do companies actually look at GitHub?</td>\n",
       "      <td>Wizzman17</td>\n",
       "      <td>36</td>\n",
       "      <td>50</td>\n",
       "      <td>Been having difficulty even getting first roun...</td>\n",
       "      <td>/r/datascience/comments/118sfhy/do_companies_a...</td>\n",
       "    </tr>\n",
       "  </tbody>\n",
       "</table>\n",
       "</div>"
      ],
      "text/plain": [
       "                                               title              author  \\\n",
       "0  Weekly Entering & Transitioning - Thread 20 Fe...       AutoModerator   \n",
       "1  Why is the field called Data Science and not C...      Spontanous_cat   \n",
       "2  I feel so stressed to keep up withthis fast-pa...  Delay_no_more_1999   \n",
       "3  I had a conversation with a data science hirin...    WhoIsTheUnPerson   \n",
       "4              Do companies actually look at GitHub?           Wizzman17   \n",
       "\n",
       "   n_comments  score                                               text  \\\n",
       "0          75      7   \\n\\nWelcome to this week's entering & transit...   \n",
       "1         147    217  I feel like we would have less confusion had p...   \n",
       "2          42     48  I feel like i can never keep up this rapid dev...   \n",
       "3          29     32  A friend of a friend of mine was at a dinner p...   \n",
       "4          36     50  Been having difficulty even getting first roun...   \n",
       "\n",
       "                                                link  \n",
       "0  /r/datascience/comments/116y7t5/weekly_enterin...  \n",
       "1  /r/datascience/comments/11949lo/why_is_the_fie...  \n",
       "2  /r/datascience/comments/118vpor/i_feel_so_stre...  \n",
       "3  /r/datascience/comments/118vld0/i_had_a_conver...  \n",
       "4  /r/datascience/comments/118sfhy/do_companies_a...  "
      ]
     },
     "execution_count": 20,
     "metadata": {},
     "output_type": "execute_result"
    }
   ],
   "source": [
    "ds_df.head()"
   ]
  },
  {
   "attachments": {},
   "cell_type": "markdown",
   "id": "c6391a18",
   "metadata": {},
   "source": [
    "## To SQLite"
   ]
  },
  {
   "cell_type": "code",
   "execution_count": 24,
   "id": "a6267aa3",
   "metadata": {},
   "outputs": [
    {
     "data": {
      "text/plain": [
       "942"
      ]
     },
     "execution_count": 24,
     "metadata": {},
     "output_type": "execute_result"
    }
   ],
   "source": [
    "import sqlite3\n",
    "\n",
    "con = sqlite3.connect(\"data/ds_reddit.sqlite\")\n",
    "ds_df.to_sql('posts', con, if_exists='replace', index=False)"
   ]
  },
  {
   "cell_type": "code",
   "execution_count": 25,
   "id": "513808b6",
   "metadata": {},
   "outputs": [
    {
     "data": {
      "text/html": [
       "<div>\n",
       "<style scoped>\n",
       "    .dataframe tbody tr th:only-of-type {\n",
       "        vertical-align: middle;\n",
       "    }\n",
       "\n",
       "    .dataframe tbody tr th {\n",
       "        vertical-align: top;\n",
       "    }\n",
       "\n",
       "    .dataframe thead th {\n",
       "        text-align: right;\n",
       "    }\n",
       "</style>\n",
       "<table border=\"1\" class=\"dataframe\">\n",
       "  <thead>\n",
       "    <tr style=\"text-align: right;\">\n",
       "      <th></th>\n",
       "      <th>title</th>\n",
       "      <th>author</th>\n",
       "      <th>n_comments</th>\n",
       "      <th>score</th>\n",
       "      <th>text</th>\n",
       "      <th>link</th>\n",
       "    </tr>\n",
       "  </thead>\n",
       "  <tbody>\n",
       "    <tr>\n",
       "      <th>0</th>\n",
       "      <td>Weekly Entering &amp; Transitioning - Thread 20 Fe...</td>\n",
       "      <td>AutoModerator</td>\n",
       "      <td>75</td>\n",
       "      <td>7</td>\n",
       "      <td>\\n\\nWelcome to this week's entering &amp; transit...</td>\n",
       "      <td>/r/datascience/comments/116y7t5/weekly_enterin...</td>\n",
       "    </tr>\n",
       "    <tr>\n",
       "      <th>1</th>\n",
       "      <td>Why is the field called Data Science and not C...</td>\n",
       "      <td>Spontanous_cat</td>\n",
       "      <td>147</td>\n",
       "      <td>217</td>\n",
       "      <td>I feel like we would have less confusion had p...</td>\n",
       "      <td>/r/datascience/comments/11949lo/why_is_the_fie...</td>\n",
       "    </tr>\n",
       "    <tr>\n",
       "      <th>2</th>\n",
       "      <td>I feel so stressed to keep up withthis fast-pa...</td>\n",
       "      <td>Delay_no_more_1999</td>\n",
       "      <td>42</td>\n",
       "      <td>48</td>\n",
       "      <td>I feel like i can never keep up this rapid dev...</td>\n",
       "      <td>/r/datascience/comments/118vpor/i_feel_so_stre...</td>\n",
       "    </tr>\n",
       "    <tr>\n",
       "      <th>3</th>\n",
       "      <td>I had a conversation with a data science hirin...</td>\n",
       "      <td>WhoIsTheUnPerson</td>\n",
       "      <td>29</td>\n",
       "      <td>32</td>\n",
       "      <td>A friend of a friend of mine was at a dinner p...</td>\n",
       "      <td>/r/datascience/comments/118vld0/i_had_a_conver...</td>\n",
       "    </tr>\n",
       "    <tr>\n",
       "      <th>4</th>\n",
       "      <td>Do companies actually look at GitHub?</td>\n",
       "      <td>Wizzman17</td>\n",
       "      <td>36</td>\n",
       "      <td>50</td>\n",
       "      <td>Been having difficulty even getting first roun...</td>\n",
       "      <td>/r/datascience/comments/118sfhy/do_companies_a...</td>\n",
       "    </tr>\n",
       "    <tr>\n",
       "      <th>...</th>\n",
       "      <td>...</td>\n",
       "      <td>...</td>\n",
       "      <td>...</td>\n",
       "      <td>...</td>\n",
       "      <td>...</td>\n",
       "      <td>...</td>\n",
       "    </tr>\n",
       "    <tr>\n",
       "      <th>937</th>\n",
       "      <td>Join us for a live webinar with Dr. Camille Ne...</td>\n",
       "      <td>mDOT_Center</td>\n",
       "      <td>1</td>\n",
       "      <td>1</td>\n",
       "      <td></td>\n",
       "      <td>/r/datascience/comments/10lxe23/join_us_for_a_...</td>\n",
       "    </tr>\n",
       "    <tr>\n",
       "      <th>938</th>\n",
       "      <td>what % do you think is worth switching jobs for ?</td>\n",
       "      <td>eomar2828</td>\n",
       "      <td>27</td>\n",
       "      <td>20</td>\n",
       "      <td>I make \\~160k(after bonus) + pre-IPO equity . ...</td>\n",
       "      <td>/r/datascience/comments/10ldhe7/what_do_you_th...</td>\n",
       "    </tr>\n",
       "    <tr>\n",
       "      <th>939</th>\n",
       "      <td>how to job hunt as a fresher + profile feedback</td>\n",
       "      <td>thetimeis_notnow</td>\n",
       "      <td>0</td>\n",
       "      <td>0</td>\n",
       "      <td>Hi i have expertise in python, sql, tableau, E...</td>\n",
       "      <td>/r/datascience/comments/10m16md/how_to_job_hun...</td>\n",
       "    </tr>\n",
       "    <tr>\n",
       "      <th>940</th>\n",
       "      <td>Another One</td>\n",
       "      <td>Western_Moment7373</td>\n",
       "      <td>109</td>\n",
       "      <td>721</td>\n",
       "      <td></td>\n",
       "      <td>/r/datascience/comments/10jd28b/another_one/</td>\n",
       "    </tr>\n",
       "    <tr>\n",
       "      <th>941</th>\n",
       "      <td>Changing my feminine first name to a masculine...</td>\n",
       "      <td>chartreuse_13</td>\n",
       "      <td>245</td>\n",
       "      <td>953</td>\n",
       "      <td>Just a heads up to any other women that this c...</td>\n",
       "      <td>/r/datascience/comments/1032pgs/changing_my_fe...</td>\n",
       "    </tr>\n",
       "  </tbody>\n",
       "</table>\n",
       "<p>942 rows × 6 columns</p>\n",
       "</div>"
      ],
      "text/plain": [
       "                                                 title              author  \\\n",
       "0    Weekly Entering & Transitioning - Thread 20 Fe...       AutoModerator   \n",
       "1    Why is the field called Data Science and not C...      Spontanous_cat   \n",
       "2    I feel so stressed to keep up withthis fast-pa...  Delay_no_more_1999   \n",
       "3    I had a conversation with a data science hirin...    WhoIsTheUnPerson   \n",
       "4                Do companies actually look at GitHub?           Wizzman17   \n",
       "..                                                 ...                 ...   \n",
       "937  Join us for a live webinar with Dr. Camille Ne...         mDOT_Center   \n",
       "938  what % do you think is worth switching jobs for ?           eomar2828   \n",
       "939    how to job hunt as a fresher + profile feedback    thetimeis_notnow   \n",
       "940                                        Another One  Western_Moment7373   \n",
       "941  Changing my feminine first name to a masculine...       chartreuse_13   \n",
       "\n",
       "     n_comments  score                                               text  \\\n",
       "0            75      7   \\n\\nWelcome to this week's entering & transit...   \n",
       "1           147    217  I feel like we would have less confusion had p...   \n",
       "2            42     48  I feel like i can never keep up this rapid dev...   \n",
       "3            29     32  A friend of a friend of mine was at a dinner p...   \n",
       "4            36     50  Been having difficulty even getting first roun...   \n",
       "..          ...    ...                                                ...   \n",
       "937           1      1                                                      \n",
       "938          27     20  I make \\~160k(after bonus) + pre-IPO equity . ...   \n",
       "939           0      0  Hi i have expertise in python, sql, tableau, E...   \n",
       "940         109    721                                                      \n",
       "941         245    953  Just a heads up to any other women that this c...   \n",
       "\n",
       "                                                  link  \n",
       "0    /r/datascience/comments/116y7t5/weekly_enterin...  \n",
       "1    /r/datascience/comments/11949lo/why_is_the_fie...  \n",
       "2    /r/datascience/comments/118vpor/i_feel_so_stre...  \n",
       "3    /r/datascience/comments/118vld0/i_had_a_conver...  \n",
       "4    /r/datascience/comments/118sfhy/do_companies_a...  \n",
       "..                                                 ...  \n",
       "937  /r/datascience/comments/10lxe23/join_us_for_a_...  \n",
       "938  /r/datascience/comments/10ldhe7/what_do_you_th...  \n",
       "939  /r/datascience/comments/10m16md/how_to_job_hun...  \n",
       "940       /r/datascience/comments/10jd28b/another_one/  \n",
       "941  /r/datascience/comments/1032pgs/changing_my_fe...  \n",
       "\n",
       "[942 rows x 6 columns]"
      ]
     },
     "execution_count": 25,
     "metadata": {},
     "output_type": "execute_result"
    }
   ],
   "source": [
    "check = pd.read_sql_query('SELECT * FROM posts;', con)\n",
    "con.close()\n",
    "check"
   ]
  },
  {
   "attachments": {},
   "cell_type": "markdown",
   "id": "11549f4a",
   "metadata": {},
   "source": [
    "## EDA"
   ]
  },
  {
   "cell_type": "code",
   "execution_count": 27,
   "id": "9d4cf101",
   "metadata": {},
   "outputs": [
    {
     "data": {
      "text/plain": [
       "<AxesSubplot:xlabel='score', ylabel='n_comments'>"
      ]
     },
     "execution_count": 27,
     "metadata": {},
     "output_type": "execute_result"
    },
    {
     "data": {
      "image/png": "[encoded data removed]",
      "text/plain": [
       "<Figure size 640x480 with 1 Axes>"
      ]
     },
     "metadata": {},
     "output_type": "display_data"
    }
   ],
   "source": [
    "ds_df.plot.scatter(x=\"score\", y=\"n_comments\")"
   ]
  },
  {
   "cell_type": "code",
   "execution_count": 29,
   "id": "7db7602b",
   "metadata": {},
   "outputs": [
    {
     "data": {
      "text/html": [
       "<div>\n",
       "<style scoped>\n",
       "    .dataframe tbody tr th:only-of-type {\n",
       "        vertical-align: middle;\n",
       "    }\n",
       "\n",
       "    .dataframe tbody tr th {\n",
       "        vertical-align: top;\n",
       "    }\n",
       "\n",
       "    .dataframe thead th {\n",
       "        text-align: right;\n",
       "    }\n",
       "</style>\n",
       "<table border=\"1\" class=\"dataframe\">\n",
       "  <thead>\n",
       "    <tr style=\"text-align: right;\">\n",
       "      <th></th>\n",
       "      <th>score</th>\n",
       "      <th>n_comments</th>\n",
       "    </tr>\n",
       "  </thead>\n",
       "  <tbody>\n",
       "    <tr>\n",
       "      <th>score</th>\n",
       "      <td>1.000000</td>\n",
       "      <td>0.584017</td>\n",
       "    </tr>\n",
       "    <tr>\n",
       "      <th>n_comments</th>\n",
       "      <td>0.584017</td>\n",
       "      <td>1.000000</td>\n",
       "    </tr>\n",
       "  </tbody>\n",
       "</table>\n",
       "</div>"
      ],
      "text/plain": [
       "               score  n_comments\n",
       "score       1.000000    0.584017\n",
       "n_comments  0.584017    1.000000"
      ]
     },
     "execution_count": 29,
     "metadata": {},
     "output_type": "execute_result"
    }
   ],
   "source": [
    "ds_df[[\"score\", \"n_comments\"]].corr(method='pearson')"
   ]
  },
  {
   "attachments": {},
   "cell_type": "markdown",
   "id": "5d800899",
   "metadata": {},
   "source": [
    "There is a moderate positive correlation between score and comment number."
   ]
  },
  {
   "cell_type": "code",
   "execution_count": 34,
   "id": "5c42a35d",
   "metadata": {},
   "outputs": [
    {
     "data": {
      "text/plain": [
       "942"
      ]
     },
     "execution_count": 34,
     "metadata": {},
     "output_type": "execute_result"
    }
   ],
   "source": [
    "ds_df.shape[0]"
   ]
  },
  {
   "cell_type": "code",
   "execution_count": 30,
   "id": "9a61c918",
   "metadata": {},
   "outputs": [
    {
     "data": {
      "text/plain": [
       "<AxesSubplot:>"
      ]
     },
     "execution_count": 30,
     "metadata": {},
     "output_type": "execute_result"
    },
    {
     "data": {
      "image/png": "[encoded data removed]",
      "text/plain": [
       "<Figure size 640x480 with 1 Axes>"
      ]
     },
     "metadata": {},
     "output_type": "display_data"
    }
   ],
   "source": [
    "ds_df[\"author\"].value_counts()[:10].plot.bar()"
   ]
  },
  {
   "attachments": {},
   "cell_type": "markdown",
   "id": "918bd1b4",
   "metadata": {},
   "source": [
    "There are 942 posts, but the top poster only has 8 posts, so there is a good spread of posts among different authors."
   ]
  },
  {
   "cell_type": "code",
   "execution_count": 39,
   "id": "e5cc0c65",
   "metadata": {},
   "outputs": [
    {
     "data": {
      "text/plain": [
       "author\n",
       "cardsfan314           2443\n",
       "Gentlecriminal14      1730\n",
       "deepcontractor        1575\n",
       "BrilliantCashew       1189\n",
       "statisticant          1068\n",
       "chartreuse_13          953\n",
       "enDelt09               834\n",
       "Western_Moment7373     721\n",
       "immabee1990            564\n",
       "burralohit01           545\n",
       "Name: score, dtype: int64"
      ]
     },
     "execution_count": 39,
     "metadata": {},
     "output_type": "execute_result"
    }
   ],
   "source": [
    "ds_df.groupby(\"author\")[\"score\"].sum().sort_values(ascending=False)[:10]"
   ]
  },
  {
   "attachments": {},
   "cell_type": "markdown",
   "id": "79f26507",
   "metadata": {},
   "source": [
    "Interestingly, the accounts that have the most upvotes over all of their posts do not show up on the top 10 authors with the most posts."
   ]
  },
  {
   "attachments": {},
   "cell_type": "markdown",
   "id": "004eeaec",
   "metadata": {},
   "source": [
    "## Common Words Distribution using nltk"
   ]
  },
  {
   "cell_type": "code",
   "execution_count": 60,
   "id": "03fb726b",
   "metadata": {},
   "outputs": [
    {
     "name": "stderr",
     "output_type": "stream",
     "text": [
      "[nltk_data] Downloading package stopwords to\n",
      "[nltk_data]     /Users/charliealders/nltk_data...\n",
      "[nltk_data]   Package stopwords is already up-to-date!\n"
     ]
    }
   ],
   "source": [
    "import nltk\n",
    "nltk.download('stopwords')\n",
    "\n",
    "from nltk.corpus import stopwords\n",
    "stops = stopwords.words('english')\n",
    "\n",
    "stops = stops + [\"data\", \"science\", \"-\"]"
   ]
  },
  {
   "cell_type": "code",
   "execution_count": 61,
   "id": "e0e5a573",
   "metadata": {},
   "outputs": [],
   "source": [
    "words = ' '.join(ds_df[\"title\"]).lower().split()\n",
    "cleaned_words = [w for w in words if w not in set(stops)]"
   ]
  },
  {
   "cell_type": "code",
   "execution_count": 62,
   "id": "270f1435",
   "metadata": {},
   "outputs": [
    {
     "data": {
      "text/plain": [
       "[('learning', 39),\n",
       " ('job', 35),\n",
       " ('ds', 34),\n",
       " ('ai', 33),\n",
       " ('using', 30),\n",
       " ('need', 28),\n",
       " ('advice', 28),\n",
       " ('best', 28),\n",
       " ('python', 28),\n",
       " ('interview', 28),\n",
       " ('work', 27),\n",
       " ('machine', 26),\n",
       " ('use', 25),\n",
       " ('anyone', 25),\n",
       " ('scientist', 24),\n",
       " ('help', 22),\n",
       " ('time', 21),\n",
       " ('new', 21),\n",
       " ('vs', 20),\n",
       " ('analysis', 20)]"
      ]
     },
     "execution_count": 62,
     "metadata": {},
     "output_type": "execute_result"
    }
   ],
   "source": [
    "fd = nltk.FreqDist(cleaned_words)\n",
    "fd.most_common(20)"
   ]
  },
  {
   "cell_type": "code",
   "execution_count": 63,
   "id": "31c87fb0",
   "metadata": {},
   "outputs": [
    {
     "data": {
      "image/png": "[encoded data removed]",
      "text/plain": [
       "<Figure size 640x480 with 1 Axes>"
      ]
     },
     "metadata": {},
     "output_type": "display_data"
    },
    {
     "data": {
      "text/plain": [
       "<AxesSubplot:xlabel='Samples', ylabel='Counts'>"
      ]
     },
     "execution_count": 63,
     "metadata": {},
     "output_type": "execute_result"
    }
   ],
   "source": [
    "fd.plot(20)"
   ]
  },
  {
   "attachments": {},
   "cell_type": "markdown",
   "id": "ec5fce48",
   "metadata": {},
   "source": [
    "# Analysis"
   ]
  },
  {
   "attachments": {},
   "cell_type": "markdown",
   "id": "ed918e12",
   "metadata": {},
   "source": [
    "In this assignment, I gathered data from the r/datascience subreddit using the Reddit API and praw Python package. The data returned from the API call was then converted into a list and iterated through, adding each post's corresponding value (title, author, etc.) to a dictionary, which was then turned into a pandas dataframe. I stored the dataframe in a SQLite file, which could be used to easily query the data using the sqlite3 package. In my EDA, I found that there is a moderate correlation between a post's score and the number of comments, which makes sense considering the higher scoring posts will show up more often on users' feeds, leading to more comments/upvotes. The dataframe ended up with 942 posts, but the top author had only posted 8 times, so there wasn't one person who was \"keeping the subreddit alive\" as there are for some others. The authors with the highest quantity of posts were actually not seen in the authors with the most upvotes, which is quite interesting. It seems that the users who post more have less quality content, leading to less upvotes. The frequency distribution of words left out the obvious 'stopwords' as well as some others, such as 'data', 'science', and '-', which all appeared quite often. With the new list of words, 'learning', 'job', 'ds', and 'ai' showed up the most. These are likely the most common words because machine *learning* and *ai* are very big concepts in data science, and *job* is a hot topic, as many people are looking for data science jobs."
   ]
  }
 ],
 "metadata": {
  "kernelspec": {
   "display_name": "base",
   "language": "python",
   "name": "python3"
  },
  "language_info": {
   "codemirror_mode": {
    "name": "ipython",
    "version": 3
   },
   "file_extension": ".py",
   "mimetype": "text/x-python",
   "name": "python",
   "nbconvert_exporter": "python",
   "pygments_lexer": "ipython3",
   "version": "3.9.13"
  },
  "vscode": {
   "interpreter": {
    "hash": "7a64d6c5339b9b168423010f04dcc9e2c76474421cab9b5d354e7386d4b1bf8a"
   }
  }
 },
 "nbformat": 4,
 "nbformat_minor": 5
}
